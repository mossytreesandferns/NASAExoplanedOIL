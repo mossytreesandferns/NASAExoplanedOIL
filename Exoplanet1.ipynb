{
  "nbformat": 4,
  "nbformat_minor": 0,
  "metadata": {
    "colab": {
      "name": "Exoplanet1.ipynb",
      "provenance": [],
      "collapsed_sections": []
    },
    "kernelspec": {
      "name": "python3",
      "display_name": "Python 3"
    }
  },
  "cells": [
    {
      "cell_type": "code",
      "metadata": {
        "id": "iggQUfUAsuBU",
        "colab_type": "code",
        "outputId": "cd124d4c-bc65-46a8-bf6a-5f85d4ee3218",
        "colab": {
          "base_uri": "https://localhost:8080/",
          "height": 54
        }
      },
      "source": [
        "#Mount my drive- run the code, go to the link, accept.\n",
        "from google.colab import drive\n",
        "drive.mount('/content/gdrive')"
      ],
      "execution_count": 1,
      "outputs": [
        {
          "output_type": "stream",
          "text": [
            "Drive already mounted at /content/gdrive; to attempt to forcibly remount, call drive.mount(\"/content/gdrive\", force_remount=True).\n"
          ],
          "name": "stdout"
        }
      ]
    },
    {
      "cell_type": "code",
      "metadata": {
        "id": "pfVX0IXwsvKt",
        "colab_type": "code",
        "outputId": "8f4c24c8-077f-4040-c2f1-001c69244727",
        "colab": {
          "base_uri": "https://localhost:8080/",
          "height": 34
        }
      },
      "source": [
        "import os\n",
        "os.chdir(\"/content/gdrive/My Drive/OwnJupyterNotebooks/\")\n",
        "os.getcwd()"
      ],
      "execution_count": 2,
      "outputs": [
        {
          "output_type": "execute_result",
          "data": {
            "text/plain": [
              "'/content/gdrive/My Drive/OwnJupyterNotebooks'"
            ]
          },
          "metadata": {
            "tags": []
          },
          "execution_count": 2
        }
      ]
    },
    {
      "cell_type": "code",
      "metadata": {
        "id": "bJdJwMFRsvN4",
        "colab_type": "code",
        "colab": {}
      },
      "source": [
        "# Import Libraries\n",
        "import pandas as pd\n",
        "import numpy as np\n",
        "import matplotlib.pyplot as plt\n",
        "import seaborn as sns\n",
        "from pandas.plotting import scatter_matrix\n",
        "%matplotlib inline"
      ],
      "execution_count": 0,
      "outputs": []
    },
    {
      "cell_type": "markdown",
      "metadata": {
        "id": "8hiJnQx9bNmN",
        "colab_type": "text"
      },
      "source": [
        "\n",
        "## Reading in Data for Confirmed Exoplanets"
      ]
    },
    {
      "cell_type": "code",
      "metadata": {
        "id": "i0tgOinwsvRd",
        "colab_type": "code",
        "colab": {
          "base_uri": "https://localhost:8080/",
          "height": 338
        },
        "outputId": "89571c8c-adea-4bd2-b28c-745f89ec430a"
      },
      "source": [
        "data = pd.read_csv(\"/content/gdrive/My Drive/OwnJupyterNotebooks/Exoplanets2.csv\")\n",
        "data.head()"
      ],
      "execution_count": 4,
      "outputs": [
        {
          "output_type": "execute_result",
          "data": {
            "text/html": [
              "<div>\n",
              "<style scoped>\n",
              "    .dataframe tbody tr th:only-of-type {\n",
              "        vertical-align: middle;\n",
              "    }\n",
              "\n",
              "    .dataframe tbody tr th {\n",
              "        vertical-align: top;\n",
              "    }\n",
              "\n",
              "    .dataframe thead th {\n",
              "        text-align: right;\n",
              "    }\n",
              "</style>\n",
              "<table border=\"1\" class=\"dataframe\">\n",
              "  <thead>\n",
              "    <tr style=\"text-align: right;\">\n",
              "      <th></th>\n",
              "      <th>pl_hostname</th>\n",
              "      <th>pl_letter</th>\n",
              "      <th>pl_name</th>\n",
              "      <th>pl_discmethod</th>\n",
              "      <th>pl_controvflag</th>\n",
              "      <th>pl_pnum</th>\n",
              "      <th>pl_orbper</th>\n",
              "      <th>pl_orbpererr1</th>\n",
              "      <th>pl_orbpererr2</th>\n",
              "      <th>pl_orbperlim</th>\n",
              "      <th>pl_orbpern</th>\n",
              "      <th>pl_orbsmax</th>\n",
              "      <th>pl_orbsmaxerr1</th>\n",
              "      <th>pl_orbsmaxerr2</th>\n",
              "      <th>pl_orbsmaxlim</th>\n",
              "      <th>pl_orbsmaxn</th>\n",
              "      <th>pl_orbeccen</th>\n",
              "      <th>pl_orbeccenerr1</th>\n",
              "      <th>pl_orbeccenerr2</th>\n",
              "      <th>pl_orbeccenlim</th>\n",
              "      <th>pl_orbeccenn</th>\n",
              "      <th>pl_orbincl</th>\n",
              "      <th>pl_orbinclerr1</th>\n",
              "      <th>pl_orbinclerr2</th>\n",
              "      <th>pl_orbincllim</th>\n",
              "      <th>pl_orbincln</th>\n",
              "      <th>pl_bmassj</th>\n",
              "      <th>pl_bmassjerr1</th>\n",
              "      <th>pl_bmassjerr2</th>\n",
              "      <th>pl_bmassjlim</th>\n",
              "      <th>pl_bmassn</th>\n",
              "      <th>pl_bmassprov</th>\n",
              "      <th>pl_radj</th>\n",
              "      <th>pl_radjerr1</th>\n",
              "      <th>pl_radjerr2</th>\n",
              "      <th>pl_radjlim</th>\n",
              "      <th>pl_radn</th>\n",
              "      <th>pl_dens</th>\n",
              "      <th>pl_denserr1</th>\n",
              "      <th>pl_denserr2</th>\n",
              "      <th>...</th>\n",
              "      <th>pl_ttvflag</th>\n",
              "      <th>pl_kepflag</th>\n",
              "      <th>pl_k2flag</th>\n",
              "      <th>ra_str</th>\n",
              "      <th>dec_str</th>\n",
              "      <th>ra</th>\n",
              "      <th>st_raerr</th>\n",
              "      <th>dec</th>\n",
              "      <th>st_decerr</th>\n",
              "      <th>st_posn</th>\n",
              "      <th>st_dist</th>\n",
              "      <th>st_disterr1</th>\n",
              "      <th>st_disterr2</th>\n",
              "      <th>st_distlim</th>\n",
              "      <th>st_distn</th>\n",
              "      <th>st_optmag</th>\n",
              "      <th>st_optmagerr</th>\n",
              "      <th>st_optmaglim</th>\n",
              "      <th>st_optband</th>\n",
              "      <th>gaia_gmag</th>\n",
              "      <th>gaia_gmagerr</th>\n",
              "      <th>gaia_gmaglim</th>\n",
              "      <th>st_teff</th>\n",
              "      <th>st_tefferr1</th>\n",
              "      <th>st_tefferr2</th>\n",
              "      <th>st_tefflim</th>\n",
              "      <th>st_teffn</th>\n",
              "      <th>st_mass</th>\n",
              "      <th>st_masserr1</th>\n",
              "      <th>st_masserr2</th>\n",
              "      <th>st_masslim</th>\n",
              "      <th>st_massn</th>\n",
              "      <th>st_rad</th>\n",
              "      <th>st_raderr1</th>\n",
              "      <th>st_raderr2</th>\n",
              "      <th>st_radlim</th>\n",
              "      <th>st_radn</th>\n",
              "      <th>pl_nnotes</th>\n",
              "      <th>rowupdate</th>\n",
              "      <th>pl_facility</th>\n",
              "    </tr>\n",
              "  </thead>\n",
              "  <tbody>\n",
              "    <tr>\n",
              "      <th>0</th>\n",
              "      <td>Kepler-163</td>\n",
              "      <td>b</td>\n",
              "      <td>Kepler-163 b</td>\n",
              "      <td>Transit</td>\n",
              "      <td>0</td>\n",
              "      <td>2</td>\n",
              "      <td>7.810937</td>\n",
              "      <td>0.000107</td>\n",
              "      <td>-0.000107</td>\n",
              "      <td>0.0</td>\n",
              "      <td>3</td>\n",
              "      <td>0.078</td>\n",
              "      <td>NaN</td>\n",
              "      <td>NaN</td>\n",
              "      <td>0.0</td>\n",
              "      <td>1</td>\n",
              "      <td>NaN</td>\n",
              "      <td>NaN</td>\n",
              "      <td>NaN</td>\n",
              "      <td>NaN</td>\n",
              "      <td>0</td>\n",
              "      <td>NaN</td>\n",
              "      <td>NaN</td>\n",
              "      <td>NaN</td>\n",
              "      <td>NaN</td>\n",
              "      <td>0</td>\n",
              "      <td>NaN</td>\n",
              "      <td>NaN</td>\n",
              "      <td>NaN</td>\n",
              "      <td>NaN</td>\n",
              "      <td>0</td>\n",
              "      <td>NaN</td>\n",
              "      <td>0.094</td>\n",
              "      <td>0.039</td>\n",
              "      <td>-0.039</td>\n",
              "      <td>0.0</td>\n",
              "      <td>3</td>\n",
              "      <td>NaN</td>\n",
              "      <td>NaN</td>\n",
              "      <td>NaN</td>\n",
              "      <td>...</td>\n",
              "      <td>0</td>\n",
              "      <td>1</td>\n",
              "      <td>0</td>\n",
              "      <td>19h40m00.68s</td>\n",
              "      <td>+46d59m14.4s</td>\n",
              "      <td>295.002819</td>\n",
              "      <td>0.000019</td>\n",
              "      <td>46.987328</td>\n",
              "      <td>0.000017</td>\n",
              "      <td>2</td>\n",
              "      <td>703.69</td>\n",
              "      <td>10.19</td>\n",
              "      <td>-10.19</td>\n",
              "      <td>0.0</td>\n",
              "      <td>3</td>\n",
              "      <td>14.415</td>\n",
              "      <td>NaN</td>\n",
              "      <td>0.0</td>\n",
              "      <td>Kepler-band</td>\n",
              "      <td>14.380</td>\n",
              "      <td>NaN</td>\n",
              "      <td>0.0</td>\n",
              "      <td>5776.0</td>\n",
              "      <td>200.0</td>\n",
              "      <td>-200.0</td>\n",
              "      <td>0.0</td>\n",
              "      <td>6</td>\n",
              "      <td>NaN</td>\n",
              "      <td>NaN</td>\n",
              "      <td>NaN</td>\n",
              "      <td>NaN</td>\n",
              "      <td>2</td>\n",
              "      <td>0.92</td>\n",
              "      <td>0.38</td>\n",
              "      <td>-0.38</td>\n",
              "      <td>0.0</td>\n",
              "      <td>6</td>\n",
              "      <td>1</td>\n",
              "      <td>2014-05-14</td>\n",
              "      <td>Kepler</td>\n",
              "    </tr>\n",
              "    <tr>\n",
              "      <th>1</th>\n",
              "      <td>Kepler-163</td>\n",
              "      <td>c</td>\n",
              "      <td>Kepler-163 c</td>\n",
              "      <td>Transit</td>\n",
              "      <td>0</td>\n",
              "      <td>2</td>\n",
              "      <td>21.347262</td>\n",
              "      <td>0.000081</td>\n",
              "      <td>-0.000081</td>\n",
              "      <td>0.0</td>\n",
              "      <td>4</td>\n",
              "      <td>0.152</td>\n",
              "      <td>NaN</td>\n",
              "      <td>NaN</td>\n",
              "      <td>0.0</td>\n",
              "      <td>1</td>\n",
              "      <td>NaN</td>\n",
              "      <td>NaN</td>\n",
              "      <td>NaN</td>\n",
              "      <td>NaN</td>\n",
              "      <td>0</td>\n",
              "      <td>NaN</td>\n",
              "      <td>NaN</td>\n",
              "      <td>NaN</td>\n",
              "      <td>NaN</td>\n",
              "      <td>0</td>\n",
              "      <td>NaN</td>\n",
              "      <td>NaN</td>\n",
              "      <td>NaN</td>\n",
              "      <td>NaN</td>\n",
              "      <td>0</td>\n",
              "      <td>NaN</td>\n",
              "      <td>0.202</td>\n",
              "      <td>0.084</td>\n",
              "      <td>-0.084</td>\n",
              "      <td>0.0</td>\n",
              "      <td>3</td>\n",
              "      <td>NaN</td>\n",
              "      <td>NaN</td>\n",
              "      <td>NaN</td>\n",
              "      <td>...</td>\n",
              "      <td>0</td>\n",
              "      <td>1</td>\n",
              "      <td>0</td>\n",
              "      <td>19h40m00.68s</td>\n",
              "      <td>+46d59m14.4s</td>\n",
              "      <td>295.002819</td>\n",
              "      <td>0.000019</td>\n",
              "      <td>46.987328</td>\n",
              "      <td>0.000017</td>\n",
              "      <td>2</td>\n",
              "      <td>703.69</td>\n",
              "      <td>10.19</td>\n",
              "      <td>-10.19</td>\n",
              "      <td>0.0</td>\n",
              "      <td>3</td>\n",
              "      <td>14.415</td>\n",
              "      <td>NaN</td>\n",
              "      <td>0.0</td>\n",
              "      <td>Kepler-band</td>\n",
              "      <td>14.380</td>\n",
              "      <td>NaN</td>\n",
              "      <td>0.0</td>\n",
              "      <td>5776.0</td>\n",
              "      <td>200.0</td>\n",
              "      <td>-200.0</td>\n",
              "      <td>0.0</td>\n",
              "      <td>6</td>\n",
              "      <td>NaN</td>\n",
              "      <td>NaN</td>\n",
              "      <td>NaN</td>\n",
              "      <td>NaN</td>\n",
              "      <td>2</td>\n",
              "      <td>0.92</td>\n",
              "      <td>0.38</td>\n",
              "      <td>-0.38</td>\n",
              "      <td>0.0</td>\n",
              "      <td>6</td>\n",
              "      <td>1</td>\n",
              "      <td>2014-05-14</td>\n",
              "      <td>Kepler</td>\n",
              "    </tr>\n",
              "    <tr>\n",
              "      <th>2</th>\n",
              "      <td>Kepler-164</td>\n",
              "      <td>b</td>\n",
              "      <td>Kepler-164 b</td>\n",
              "      <td>Transit</td>\n",
              "      <td>0</td>\n",
              "      <td>3</td>\n",
              "      <td>5.035030</td>\n",
              "      <td>0.000027</td>\n",
              "      <td>-0.000027</td>\n",
              "      <td>0.0</td>\n",
              "      <td>3</td>\n",
              "      <td>0.058</td>\n",
              "      <td>NaN</td>\n",
              "      <td>NaN</td>\n",
              "      <td>0.0</td>\n",
              "      <td>1</td>\n",
              "      <td>NaN</td>\n",
              "      <td>NaN</td>\n",
              "      <td>NaN</td>\n",
              "      <td>NaN</td>\n",
              "      <td>0</td>\n",
              "      <td>NaN</td>\n",
              "      <td>NaN</td>\n",
              "      <td>NaN</td>\n",
              "      <td>NaN</td>\n",
              "      <td>0</td>\n",
              "      <td>NaN</td>\n",
              "      <td>NaN</td>\n",
              "      <td>NaN</td>\n",
              "      <td>NaN</td>\n",
              "      <td>0</td>\n",
              "      <td>NaN</td>\n",
              "      <td>0.126</td>\n",
              "      <td>0.025</td>\n",
              "      <td>-0.025</td>\n",
              "      <td>0.0</td>\n",
              "      <td>3</td>\n",
              "      <td>NaN</td>\n",
              "      <td>NaN</td>\n",
              "      <td>NaN</td>\n",
              "      <td>...</td>\n",
              "      <td>0</td>\n",
              "      <td>1</td>\n",
              "      <td>0</td>\n",
              "      <td>19h11m07.40s</td>\n",
              "      <td>+47d37m47.7s</td>\n",
              "      <td>287.780828</td>\n",
              "      <td>0.000019</td>\n",
              "      <td>47.629913</td>\n",
              "      <td>0.000017</td>\n",
              "      <td>2</td>\n",
              "      <td>914.18</td>\n",
              "      <td>14.09</td>\n",
              "      <td>-14.09</td>\n",
              "      <td>0.0</td>\n",
              "      <td>3</td>\n",
              "      <td>14.282</td>\n",
              "      <td>NaN</td>\n",
              "      <td>0.0</td>\n",
              "      <td>Kepler-band</td>\n",
              "      <td>14.233</td>\n",
              "      <td>NaN</td>\n",
              "      <td>0.0</td>\n",
              "      <td>5888.0</td>\n",
              "      <td>113.0</td>\n",
              "      <td>-113.0</td>\n",
              "      <td>0.0</td>\n",
              "      <td>6</td>\n",
              "      <td>NaN</td>\n",
              "      <td>NaN</td>\n",
              "      <td>NaN</td>\n",
              "      <td>NaN</td>\n",
              "      <td>2</td>\n",
              "      <td>1.15</td>\n",
              "      <td>0.22</td>\n",
              "      <td>-0.22</td>\n",
              "      <td>0.0</td>\n",
              "      <td>6</td>\n",
              "      <td>1</td>\n",
              "      <td>2014-05-14</td>\n",
              "      <td>Kepler</td>\n",
              "    </tr>\n",
              "    <tr>\n",
              "      <th>3</th>\n",
              "      <td>Kepler-164</td>\n",
              "      <td>c</td>\n",
              "      <td>Kepler-164 c</td>\n",
              "      <td>Transit</td>\n",
              "      <td>0</td>\n",
              "      <td>3</td>\n",
              "      <td>10.945723</td>\n",
              "      <td>0.000029</td>\n",
              "      <td>-0.000029</td>\n",
              "      <td>0.0</td>\n",
              "      <td>4</td>\n",
              "      <td>0.097</td>\n",
              "      <td>NaN</td>\n",
              "      <td>NaN</td>\n",
              "      <td>0.0</td>\n",
              "      <td>1</td>\n",
              "      <td>NaN</td>\n",
              "      <td>NaN</td>\n",
              "      <td>NaN</td>\n",
              "      <td>NaN</td>\n",
              "      <td>0</td>\n",
              "      <td>NaN</td>\n",
              "      <td>NaN</td>\n",
              "      <td>NaN</td>\n",
              "      <td>NaN</td>\n",
              "      <td>0</td>\n",
              "      <td>NaN</td>\n",
              "      <td>NaN</td>\n",
              "      <td>NaN</td>\n",
              "      <td>NaN</td>\n",
              "      <td>0</td>\n",
              "      <td>NaN</td>\n",
              "      <td>0.244</td>\n",
              "      <td>0.046</td>\n",
              "      <td>-0.046</td>\n",
              "      <td>0.0</td>\n",
              "      <td>3</td>\n",
              "      <td>NaN</td>\n",
              "      <td>NaN</td>\n",
              "      <td>NaN</td>\n",
              "      <td>...</td>\n",
              "      <td>0</td>\n",
              "      <td>1</td>\n",
              "      <td>0</td>\n",
              "      <td>19h11m07.40s</td>\n",
              "      <td>+47d37m47.7s</td>\n",
              "      <td>287.780828</td>\n",
              "      <td>0.000019</td>\n",
              "      <td>47.629913</td>\n",
              "      <td>0.000017</td>\n",
              "      <td>2</td>\n",
              "      <td>914.18</td>\n",
              "      <td>14.09</td>\n",
              "      <td>-14.09</td>\n",
              "      <td>0.0</td>\n",
              "      <td>3</td>\n",
              "      <td>14.282</td>\n",
              "      <td>NaN</td>\n",
              "      <td>0.0</td>\n",
              "      <td>Kepler-band</td>\n",
              "      <td>14.233</td>\n",
              "      <td>NaN</td>\n",
              "      <td>0.0</td>\n",
              "      <td>5888.0</td>\n",
              "      <td>113.0</td>\n",
              "      <td>-113.0</td>\n",
              "      <td>0.0</td>\n",
              "      <td>6</td>\n",
              "      <td>NaN</td>\n",
              "      <td>NaN</td>\n",
              "      <td>NaN</td>\n",
              "      <td>NaN</td>\n",
              "      <td>2</td>\n",
              "      <td>1.15</td>\n",
              "      <td>0.22</td>\n",
              "      <td>-0.22</td>\n",
              "      <td>0.0</td>\n",
              "      <td>6</td>\n",
              "      <td>1</td>\n",
              "      <td>2014-05-14</td>\n",
              "      <td>Kepler</td>\n",
              "    </tr>\n",
              "    <tr>\n",
              "      <th>4</th>\n",
              "      <td>Kepler-164</td>\n",
              "      <td>d</td>\n",
              "      <td>Kepler-164 d</td>\n",
              "      <td>Transit</td>\n",
              "      <td>0</td>\n",
              "      <td>3</td>\n",
              "      <td>28.986769</td>\n",
              "      <td>0.000162</td>\n",
              "      <td>-0.000162</td>\n",
              "      <td>0.0</td>\n",
              "      <td>4</td>\n",
              "      <td>0.187</td>\n",
              "      <td>NaN</td>\n",
              "      <td>NaN</td>\n",
              "      <td>0.0</td>\n",
              "      <td>1</td>\n",
              "      <td>NaN</td>\n",
              "      <td>NaN</td>\n",
              "      <td>NaN</td>\n",
              "      <td>NaN</td>\n",
              "      <td>0</td>\n",
              "      <td>NaN</td>\n",
              "      <td>NaN</td>\n",
              "      <td>NaN</td>\n",
              "      <td>NaN</td>\n",
              "      <td>0</td>\n",
              "      <td>NaN</td>\n",
              "      <td>NaN</td>\n",
              "      <td>NaN</td>\n",
              "      <td>NaN</td>\n",
              "      <td>0</td>\n",
              "      <td>NaN</td>\n",
              "      <td>0.219</td>\n",
              "      <td>0.042</td>\n",
              "      <td>-0.042</td>\n",
              "      <td>0.0</td>\n",
              "      <td>3</td>\n",
              "      <td>NaN</td>\n",
              "      <td>NaN</td>\n",
              "      <td>NaN</td>\n",
              "      <td>...</td>\n",
              "      <td>0</td>\n",
              "      <td>1</td>\n",
              "      <td>0</td>\n",
              "      <td>19h11m07.40s</td>\n",
              "      <td>+47d37m47.7s</td>\n",
              "      <td>287.780828</td>\n",
              "      <td>0.000019</td>\n",
              "      <td>47.629913</td>\n",
              "      <td>0.000017</td>\n",
              "      <td>2</td>\n",
              "      <td>914.18</td>\n",
              "      <td>14.09</td>\n",
              "      <td>-14.09</td>\n",
              "      <td>0.0</td>\n",
              "      <td>3</td>\n",
              "      <td>14.282</td>\n",
              "      <td>NaN</td>\n",
              "      <td>0.0</td>\n",
              "      <td>Kepler-band</td>\n",
              "      <td>14.233</td>\n",
              "      <td>NaN</td>\n",
              "      <td>0.0</td>\n",
              "      <td>5888.0</td>\n",
              "      <td>113.0</td>\n",
              "      <td>-113.0</td>\n",
              "      <td>0.0</td>\n",
              "      <td>6</td>\n",
              "      <td>NaN</td>\n",
              "      <td>NaN</td>\n",
              "      <td>NaN</td>\n",
              "      <td>NaN</td>\n",
              "      <td>2</td>\n",
              "      <td>1.15</td>\n",
              "      <td>0.22</td>\n",
              "      <td>-0.22</td>\n",
              "      <td>0.0</td>\n",
              "      <td>6</td>\n",
              "      <td>1</td>\n",
              "      <td>2014-05-14</td>\n",
              "      <td>Kepler</td>\n",
              "    </tr>\n",
              "  </tbody>\n",
              "</table>\n",
              "<p>5 rows × 82 columns</p>\n",
              "</div>"
            ],
            "text/plain": [
              "  pl_hostname pl_letter       pl_name  ... pl_nnotes   rowupdate  pl_facility\n",
              "0  Kepler-163         b  Kepler-163 b  ...         1  2014-05-14       Kepler\n",
              "1  Kepler-163         c  Kepler-163 c  ...         1  2014-05-14       Kepler\n",
              "2  Kepler-164         b  Kepler-164 b  ...         1  2014-05-14       Kepler\n",
              "3  Kepler-164         c  Kepler-164 c  ...         1  2014-05-14       Kepler\n",
              "4  Kepler-164         d  Kepler-164 d  ...         1  2014-05-14       Kepler\n",
              "\n",
              "[5 rows x 82 columns]"
            ]
          },
          "metadata": {
            "tags": []
          },
          "execution_count": 4
        }
      ]
    },
    {
      "cell_type": "code",
      "metadata": {
        "id": "2Dz5mufnbSVa",
        "colab_type": "code",
        "colab": {
          "base_uri": "https://localhost:8080/",
          "height": 34
        },
        "outputId": "f97b86a3-aea5-4932-8027-3e194218c789"
      },
      "source": [
        "data.shape"
      ],
      "execution_count": 5,
      "outputs": [
        {
          "output_type": "execute_result",
          "data": {
            "text/plain": [
              "(4057, 82)"
            ]
          },
          "metadata": {
            "tags": []
          },
          "execution_count": 5
        }
      ]
    },
    {
      "cell_type": "markdown",
      "metadata": {
        "id": "LhQGlGJ-zIps",
        "colab_type": "text"
      },
      "source": [
        "### Choosing Data to Explore"
      ]
    },
    {
      "cell_type": "code",
      "metadata": {
        "id": "QKLsGSAQbWZJ",
        "colab_type": "code",
        "colab": {
          "base_uri": "https://localhost:8080/",
          "height": 34
        },
        "outputId": "db479f9e-a94d-49e0-c644-2a539a1e13d1"
      },
      "source": [
        "data1 = data[['pl_name','pl_pnum','pl_orbper','pl_orbsmax','pl_orbeccen','pl_orbincl','pl_bmassj','pl_radj','pl_dens','pl_ttvflag','st_dist','st_optmag','st_teff','st_mass','st_rad']]\n",
        "data1.shape"
      ],
      "execution_count": 6,
      "outputs": [
        {
          "output_type": "execute_result",
          "data": {
            "text/plain": [
              "(4057, 15)"
            ]
          },
          "metadata": {
            "tags": []
          },
          "execution_count": 6
        }
      ]
    },
    {
      "cell_type": "code",
      "metadata": {
        "id": "lt9bsd5U47nM",
        "colab_type": "code",
        "colab": {
          "base_uri": "https://localhost:8080/",
          "height": 377
        },
        "outputId": "a03e9838-31d5-43b8-b9ed-7bb732773d55"
      },
      "source": [
        "#Changing column names to more easily understood\n",
        "list_of_names = ['Name','Number of Planets in System','Orbit Time','Longest Elliptical Radius','Orbital Deviation','Angular Sightline Distance','Best Mass','Radius in Jupiters','Density','Orbit Time Disruption','Distance To','Host Star Brighness','Temperature','Mass','Radius in Suns']\n",
        "data1.columns = list_of_names\n",
        "data1.head()"
      ],
      "execution_count": 7,
      "outputs": [
        {
          "output_type": "execute_result",
          "data": {
            "text/html": [
              "<div>\n",
              "<style scoped>\n",
              "    .dataframe tbody tr th:only-of-type {\n",
              "        vertical-align: middle;\n",
              "    }\n",
              "\n",
              "    .dataframe tbody tr th {\n",
              "        vertical-align: top;\n",
              "    }\n",
              "\n",
              "    .dataframe thead th {\n",
              "        text-align: right;\n",
              "    }\n",
              "</style>\n",
              "<table border=\"1\" class=\"dataframe\">\n",
              "  <thead>\n",
              "    <tr style=\"text-align: right;\">\n",
              "      <th></th>\n",
              "      <th>Name</th>\n",
              "      <th>Number of Planets in System</th>\n",
              "      <th>Orbit Time</th>\n",
              "      <th>Longest Elliptical Radius</th>\n",
              "      <th>Orbital Deviation</th>\n",
              "      <th>Angular Sightline Distance</th>\n",
              "      <th>Best Mass</th>\n",
              "      <th>Radius in Jupiters</th>\n",
              "      <th>Density</th>\n",
              "      <th>Orbit Time Disruption</th>\n",
              "      <th>Distance To</th>\n",
              "      <th>Host Star Brighness</th>\n",
              "      <th>Temperature</th>\n",
              "      <th>Mass</th>\n",
              "      <th>Radius in Suns</th>\n",
              "    </tr>\n",
              "  </thead>\n",
              "  <tbody>\n",
              "    <tr>\n",
              "      <th>0</th>\n",
              "      <td>Kepler-163 b</td>\n",
              "      <td>2</td>\n",
              "      <td>7.810937</td>\n",
              "      <td>0.078</td>\n",
              "      <td>NaN</td>\n",
              "      <td>NaN</td>\n",
              "      <td>NaN</td>\n",
              "      <td>0.094</td>\n",
              "      <td>NaN</td>\n",
              "      <td>0</td>\n",
              "      <td>703.69</td>\n",
              "      <td>14.415</td>\n",
              "      <td>5776.0</td>\n",
              "      <td>NaN</td>\n",
              "      <td>0.92</td>\n",
              "    </tr>\n",
              "    <tr>\n",
              "      <th>1</th>\n",
              "      <td>Kepler-163 c</td>\n",
              "      <td>2</td>\n",
              "      <td>21.347262</td>\n",
              "      <td>0.152</td>\n",
              "      <td>NaN</td>\n",
              "      <td>NaN</td>\n",
              "      <td>NaN</td>\n",
              "      <td>0.202</td>\n",
              "      <td>NaN</td>\n",
              "      <td>0</td>\n",
              "      <td>703.69</td>\n",
              "      <td>14.415</td>\n",
              "      <td>5776.0</td>\n",
              "      <td>NaN</td>\n",
              "      <td>0.92</td>\n",
              "    </tr>\n",
              "    <tr>\n",
              "      <th>2</th>\n",
              "      <td>Kepler-164 b</td>\n",
              "      <td>3</td>\n",
              "      <td>5.035030</td>\n",
              "      <td>0.058</td>\n",
              "      <td>NaN</td>\n",
              "      <td>NaN</td>\n",
              "      <td>NaN</td>\n",
              "      <td>0.126</td>\n",
              "      <td>NaN</td>\n",
              "      <td>0</td>\n",
              "      <td>914.18</td>\n",
              "      <td>14.282</td>\n",
              "      <td>5888.0</td>\n",
              "      <td>NaN</td>\n",
              "      <td>1.15</td>\n",
              "    </tr>\n",
              "    <tr>\n",
              "      <th>3</th>\n",
              "      <td>Kepler-164 c</td>\n",
              "      <td>3</td>\n",
              "      <td>10.945723</td>\n",
              "      <td>0.097</td>\n",
              "      <td>NaN</td>\n",
              "      <td>NaN</td>\n",
              "      <td>NaN</td>\n",
              "      <td>0.244</td>\n",
              "      <td>NaN</td>\n",
              "      <td>0</td>\n",
              "      <td>914.18</td>\n",
              "      <td>14.282</td>\n",
              "      <td>5888.0</td>\n",
              "      <td>NaN</td>\n",
              "      <td>1.15</td>\n",
              "    </tr>\n",
              "    <tr>\n",
              "      <th>4</th>\n",
              "      <td>Kepler-164 d</td>\n",
              "      <td>3</td>\n",
              "      <td>28.986769</td>\n",
              "      <td>0.187</td>\n",
              "      <td>NaN</td>\n",
              "      <td>NaN</td>\n",
              "      <td>NaN</td>\n",
              "      <td>0.219</td>\n",
              "      <td>NaN</td>\n",
              "      <td>0</td>\n",
              "      <td>914.18</td>\n",
              "      <td>14.282</td>\n",
              "      <td>5888.0</td>\n",
              "      <td>NaN</td>\n",
              "      <td>1.15</td>\n",
              "    </tr>\n",
              "  </tbody>\n",
              "</table>\n",
              "</div>"
            ],
            "text/plain": [
              "           Name  Number of Planets in System  ...  Mass  Radius in Suns\n",
              "0  Kepler-163 b                            2  ...   NaN            0.92\n",
              "1  Kepler-163 c                            2  ...   NaN            0.92\n",
              "2  Kepler-164 b                            3  ...   NaN            1.15\n",
              "3  Kepler-164 c                            3  ...   NaN            1.15\n",
              "4  Kepler-164 d                            3  ...   NaN            1.15\n",
              "\n",
              "[5 rows x 15 columns]"
            ]
          },
          "metadata": {
            "tags": []
          },
          "execution_count": 7
        }
      ]
    },
    {
      "cell_type": "markdown",
      "metadata": {
        "id": "q6ksv35G2GjY",
        "colab_type": "text"
      },
      "source": [
        "### Column name descriptions:\n",
        "\n",
        "**Name**: Planet name most commonly used in the literature. <br>\n",
        "**Number of Planets in System**: Number of planets in the planetary system.<br>\n",
        "**Orbit Time**: Time the planet takes to make a complete orbit around the host star or system.<br>\n",
        "**Longest Elliptical Radius**: The longest radius of an elliptic orbit, or, for exoplanets detected via gravitational microlensing or direct imaging, the projected separation in the plane of the sky.<br>\n",
        "**Orbital Deviation**: Amount by which the orbit of the planet deviates from a perfect circle.<br>\n",
        "**Angular Sightline Distance**: Angular distance of the orbital plane from the line of sight.<br>\n",
        "**Best Mass**: Best planet mass estimate available, in order of preference: Mass, M*sin(i)/sin(i), or M*sin(i), depending on availability, and measured in Jupiter masses. <br>\n",
        "**Radius in Jupiters**: Length of a line segment from the center of the planet to its surface, measured in units of radius of Jupiter.<br>\n",
        "**Density**: Amount of mass per unit of volume of the planet.<br>\n",
        "**Orbit Time Disruption**: Flag indicating if the planet orbit exhibits transit timing variations from another planet in the system (1=yes, 0=no).\n",
        "\n",
        "Note: Non-transiting planets discovered via the transit timing variations of another planet in the system will not have their TTV flag set, since they do not themselves demonstrate TTVs.<br>\n",
        "**Distance To**: Distance to the planetary system in units of parsecs.<br>\n",
        "**Host Star Brightness**: Brightness of the host star as measured using the V (Johnson) or the Kepler-band in units of magnitudes.<br>\n",
        "**Temperature**: Temperature of the star as modeled by a black body emitting the same total amount of electromagnetic radiation.<br>\n",
        "**Mass**:  Amount of matter contained in the star, measured in units of masses of the Sun.<br>\n",
        "**Radius in Suns**: Length of a line segment from the center of the star to its surface, measured in units of radius of the Sun.<br>\n",
        "<br>\n",
        "Descriptions taken from https://exoplanetarchive.ipac.caltech.edu/docs/API_exoplanet_columns.html."
      ]
    },
    {
      "cell_type": "code",
      "metadata": {
        "id": "7PkQ72Zl08WY",
        "colab_type": "code",
        "colab": {
          "base_uri": "https://localhost:8080/",
          "height": 377
        },
        "outputId": "809c1c90-ccb0-4c0b-fcc3-38fda48f9787"
      },
      "source": [
        "data1.head()"
      ],
      "execution_count": 8,
      "outputs": [
        {
          "output_type": "execute_result",
          "data": {
            "text/html": [
              "<div>\n",
              "<style scoped>\n",
              "    .dataframe tbody tr th:only-of-type {\n",
              "        vertical-align: middle;\n",
              "    }\n",
              "\n",
              "    .dataframe tbody tr th {\n",
              "        vertical-align: top;\n",
              "    }\n",
              "\n",
              "    .dataframe thead th {\n",
              "        text-align: right;\n",
              "    }\n",
              "</style>\n",
              "<table border=\"1\" class=\"dataframe\">\n",
              "  <thead>\n",
              "    <tr style=\"text-align: right;\">\n",
              "      <th></th>\n",
              "      <th>Name</th>\n",
              "      <th>Number of Planets in System</th>\n",
              "      <th>Orbit Time</th>\n",
              "      <th>Longest Elliptical Radius</th>\n",
              "      <th>Orbital Deviation</th>\n",
              "      <th>Angular Sightline Distance</th>\n",
              "      <th>Best Mass</th>\n",
              "      <th>Radius in Jupiters</th>\n",
              "      <th>Density</th>\n",
              "      <th>Orbit Time Disruption</th>\n",
              "      <th>Distance To</th>\n",
              "      <th>Host Star Brighness</th>\n",
              "      <th>Temperature</th>\n",
              "      <th>Mass</th>\n",
              "      <th>Radius in Suns</th>\n",
              "    </tr>\n",
              "  </thead>\n",
              "  <tbody>\n",
              "    <tr>\n",
              "      <th>0</th>\n",
              "      <td>Kepler-163 b</td>\n",
              "      <td>2</td>\n",
              "      <td>7.810937</td>\n",
              "      <td>0.078</td>\n",
              "      <td>NaN</td>\n",
              "      <td>NaN</td>\n",
              "      <td>NaN</td>\n",
              "      <td>0.094</td>\n",
              "      <td>NaN</td>\n",
              "      <td>0</td>\n",
              "      <td>703.69</td>\n",
              "      <td>14.415</td>\n",
              "      <td>5776.0</td>\n",
              "      <td>NaN</td>\n",
              "      <td>0.92</td>\n",
              "    </tr>\n",
              "    <tr>\n",
              "      <th>1</th>\n",
              "      <td>Kepler-163 c</td>\n",
              "      <td>2</td>\n",
              "      <td>21.347262</td>\n",
              "      <td>0.152</td>\n",
              "      <td>NaN</td>\n",
              "      <td>NaN</td>\n",
              "      <td>NaN</td>\n",
              "      <td>0.202</td>\n",
              "      <td>NaN</td>\n",
              "      <td>0</td>\n",
              "      <td>703.69</td>\n",
              "      <td>14.415</td>\n",
              "      <td>5776.0</td>\n",
              "      <td>NaN</td>\n",
              "      <td>0.92</td>\n",
              "    </tr>\n",
              "    <tr>\n",
              "      <th>2</th>\n",
              "      <td>Kepler-164 b</td>\n",
              "      <td>3</td>\n",
              "      <td>5.035030</td>\n",
              "      <td>0.058</td>\n",
              "      <td>NaN</td>\n",
              "      <td>NaN</td>\n",
              "      <td>NaN</td>\n",
              "      <td>0.126</td>\n",
              "      <td>NaN</td>\n",
              "      <td>0</td>\n",
              "      <td>914.18</td>\n",
              "      <td>14.282</td>\n",
              "      <td>5888.0</td>\n",
              "      <td>NaN</td>\n",
              "      <td>1.15</td>\n",
              "    </tr>\n",
              "    <tr>\n",
              "      <th>3</th>\n",
              "      <td>Kepler-164 c</td>\n",
              "      <td>3</td>\n",
              "      <td>10.945723</td>\n",
              "      <td>0.097</td>\n",
              "      <td>NaN</td>\n",
              "      <td>NaN</td>\n",
              "      <td>NaN</td>\n",
              "      <td>0.244</td>\n",
              "      <td>NaN</td>\n",
              "      <td>0</td>\n",
              "      <td>914.18</td>\n",
              "      <td>14.282</td>\n",
              "      <td>5888.0</td>\n",
              "      <td>NaN</td>\n",
              "      <td>1.15</td>\n",
              "    </tr>\n",
              "    <tr>\n",
              "      <th>4</th>\n",
              "      <td>Kepler-164 d</td>\n",
              "      <td>3</td>\n",
              "      <td>28.986769</td>\n",
              "      <td>0.187</td>\n",
              "      <td>NaN</td>\n",
              "      <td>NaN</td>\n",
              "      <td>NaN</td>\n",
              "      <td>0.219</td>\n",
              "      <td>NaN</td>\n",
              "      <td>0</td>\n",
              "      <td>914.18</td>\n",
              "      <td>14.282</td>\n",
              "      <td>5888.0</td>\n",
              "      <td>NaN</td>\n",
              "      <td>1.15</td>\n",
              "    </tr>\n",
              "  </tbody>\n",
              "</table>\n",
              "</div>"
            ],
            "text/plain": [
              "           Name  Number of Planets in System  ...  Mass  Radius in Suns\n",
              "0  Kepler-163 b                            2  ...   NaN            0.92\n",
              "1  Kepler-163 c                            2  ...   NaN            0.92\n",
              "2  Kepler-164 b                            3  ...   NaN            1.15\n",
              "3  Kepler-164 c                            3  ...   NaN            1.15\n",
              "4  Kepler-164 d                            3  ...   NaN            1.15\n",
              "\n",
              "[5 rows x 15 columns]"
            ]
          },
          "metadata": {
            "tags": []
          },
          "execution_count": 8
        }
      ]
    },
    {
      "cell_type": "code",
      "metadata": {
        "id": "8QW7QEdi198G",
        "colab_type": "code",
        "colab": {
          "base_uri": "https://localhost:8080/",
          "height": 351
        },
        "outputId": "01d1db18-078d-4de8-e1cb-339d529a4499"
      },
      "source": [
        "data1.describe()"
      ],
      "execution_count": 9,
      "outputs": [
        {
          "output_type": "execute_result",
          "data": {
            "text/html": [
              "<div>\n",
              "<style scoped>\n",
              "    .dataframe tbody tr th:only-of-type {\n",
              "        vertical-align: middle;\n",
              "    }\n",
              "\n",
              "    .dataframe tbody tr th {\n",
              "        vertical-align: top;\n",
              "    }\n",
              "\n",
              "    .dataframe thead th {\n",
              "        text-align: right;\n",
              "    }\n",
              "</style>\n",
              "<table border=\"1\" class=\"dataframe\">\n",
              "  <thead>\n",
              "    <tr style=\"text-align: right;\">\n",
              "      <th></th>\n",
              "      <th>Number of Planets in System</th>\n",
              "      <th>Orbit Time</th>\n",
              "      <th>Longest Elliptical Radius</th>\n",
              "      <th>Orbital Deviation</th>\n",
              "      <th>Angular Sightline Distance</th>\n",
              "      <th>Best Mass</th>\n",
              "      <th>Radius in Jupiters</th>\n",
              "      <th>Density</th>\n",
              "      <th>Orbit Time Disruption</th>\n",
              "      <th>Distance To</th>\n",
              "      <th>Host Star Brighness</th>\n",
              "      <th>Temperature</th>\n",
              "      <th>Mass</th>\n",
              "      <th>Radius in Suns</th>\n",
              "    </tr>\n",
              "  </thead>\n",
              "  <tbody>\n",
              "    <tr>\n",
              "      <th>count</th>\n",
              "      <td>4057.000000</td>\n",
              "      <td>3.943000e+03</td>\n",
              "      <td>2379.000000</td>\n",
              "      <td>1384.000000</td>\n",
              "      <td>852.000000</td>\n",
              "      <td>1616.000000</td>\n",
              "      <td>3144.000000</td>\n",
              "      <td>484.000000</td>\n",
              "      <td>4057.000000</td>\n",
              "      <td>4051.000000</td>\n",
              "      <td>3869.000000</td>\n",
              "      <td>3839.000000</td>\n",
              "      <td>3292.000000</td>\n",
              "      <td>3718.000000</td>\n",
              "    </tr>\n",
              "    <tr>\n",
              "      <th>mean</th>\n",
              "      <td>1.774957</td>\n",
              "      <td>2.314676e+03</td>\n",
              "      <td>6.605953</td>\n",
              "      <td>0.161466</td>\n",
              "      <td>86.236384</td>\n",
              "      <td>2.510343</td>\n",
              "      <td>0.375701</td>\n",
              "      <td>2.552329</td>\n",
              "      <td>0.075179</td>\n",
              "      <td>637.127176</td>\n",
              "      <td>12.703164</td>\n",
              "      <td>5495.674064</td>\n",
              "      <td>1.005213</td>\n",
              "      <td>1.542622</td>\n",
              "    </tr>\n",
              "    <tr>\n",
              "      <th>std</th>\n",
              "      <td>1.160189</td>\n",
              "      <td>1.166278e+05</td>\n",
              "      <td>80.580400</td>\n",
              "      <td>0.188744</td>\n",
              "      <td>8.376459</td>\n",
              "      <td>4.408836</td>\n",
              "      <td>0.427361</td>\n",
              "      <td>5.196367</td>\n",
              "      <td>0.263712</td>\n",
              "      <td>826.476814</td>\n",
              "      <td>2.960943</td>\n",
              "      <td>1762.993855</td>\n",
              "      <td>0.651809</td>\n",
              "      <td>3.711946</td>\n",
              "    </tr>\n",
              "    <tr>\n",
              "      <th>min</th>\n",
              "      <td>1.000000</td>\n",
              "      <td>9.070629e-02</td>\n",
              "      <td>0.004400</td>\n",
              "      <td>0.000000</td>\n",
              "      <td>7.700000</td>\n",
              "      <td>0.000060</td>\n",
              "      <td>0.030000</td>\n",
              "      <td>0.030000</td>\n",
              "      <td>0.000000</td>\n",
              "      <td>1.300000</td>\n",
              "      <td>0.850000</td>\n",
              "      <td>575.000000</td>\n",
              "      <td>0.010000</td>\n",
              "      <td>0.010000</td>\n",
              "    </tr>\n",
              "    <tr>\n",
              "      <th>25%</th>\n",
              "      <td>1.000000</td>\n",
              "      <td>4.485229e+00</td>\n",
              "      <td>0.057000</td>\n",
              "      <td>0.014900</td>\n",
              "      <td>86.192500</td>\n",
              "      <td>0.089957</td>\n",
              "      <td>0.140000</td>\n",
              "      <td>0.411000</td>\n",
              "      <td>0.000000</td>\n",
              "      <td>158.390000</td>\n",
              "      <td>11.492000</td>\n",
              "      <td>5026.500000</td>\n",
              "      <td>0.810000</td>\n",
              "      <td>0.800000</td>\n",
              "    </tr>\n",
              "    <tr>\n",
              "      <th>50%</th>\n",
              "      <td>1.000000</td>\n",
              "      <td>1.184820e+01</td>\n",
              "      <td>0.118000</td>\n",
              "      <td>0.100000</td>\n",
              "      <td>88.100000</td>\n",
              "      <td>0.864000</td>\n",
              "      <td>0.208000</td>\n",
              "      <td>0.993500</td>\n",
              "      <td>0.000000</td>\n",
              "      <td>481.000000</td>\n",
              "      <td>13.701000</td>\n",
              "      <td>5600.000000</td>\n",
              "      <td>0.970000</td>\n",
              "      <td>0.970000</td>\n",
              "    </tr>\n",
              "    <tr>\n",
              "      <th>75%</th>\n",
              "      <td>2.000000</td>\n",
              "      <td>4.217169e+01</td>\n",
              "      <td>0.680000</td>\n",
              "      <td>0.230000</td>\n",
              "      <td>89.272500</td>\n",
              "      <td>2.540000</td>\n",
              "      <td>0.319000</td>\n",
              "      <td>2.600000</td>\n",
              "      <td>0.000000</td>\n",
              "      <td>867.000000</td>\n",
              "      <td>14.915000</td>\n",
              "      <td>5923.000000</td>\n",
              "      <td>1.130000</td>\n",
              "      <td>1.260000</td>\n",
              "    </tr>\n",
              "    <tr>\n",
              "      <th>max</th>\n",
              "      <td>8.000000</td>\n",
              "      <td>7.300000e+06</td>\n",
              "      <td>2500.000000</td>\n",
              "      <td>0.950000</td>\n",
              "      <td>133.000000</td>\n",
              "      <td>55.590000</td>\n",
              "      <td>6.900000</td>\n",
              "      <td>77.700000</td>\n",
              "      <td>1.000000</td>\n",
              "      <td>8500.000000</td>\n",
              "      <td>20.150000</td>\n",
              "      <td>57000.000000</td>\n",
              "      <td>23.560000</td>\n",
              "      <td>71.230000</td>\n",
              "    </tr>\n",
              "  </tbody>\n",
              "</table>\n",
              "</div>"
            ],
            "text/plain": [
              "       Number of Planets in System    Orbit Time  ...         Mass  Radius in Suns\n",
              "count                  4057.000000  3.943000e+03  ...  3292.000000     3718.000000\n",
              "mean                      1.774957  2.314676e+03  ...     1.005213        1.542622\n",
              "std                       1.160189  1.166278e+05  ...     0.651809        3.711946\n",
              "min                       1.000000  9.070629e-02  ...     0.010000        0.010000\n",
              "25%                       1.000000  4.485229e+00  ...     0.810000        0.800000\n",
              "50%                       1.000000  1.184820e+01  ...     0.970000        0.970000\n",
              "75%                       2.000000  4.217169e+01  ...     1.130000        1.260000\n",
              "max                       8.000000  7.300000e+06  ...    23.560000       71.230000\n",
              "\n",
              "[8 rows x 14 columns]"
            ]
          },
          "metadata": {
            "tags": []
          },
          "execution_count": 9
        }
      ]
    },
    {
      "cell_type": "markdown",
      "metadata": {
        "id": "hOX_BcdjFDhU",
        "colab_type": "text"
      },
      "source": [
        "### How many planets are in the planetary systems?"
      ]
    },
    {
      "cell_type": "code",
      "metadata": {
        "id": "yIYnujmg2AMW",
        "colab_type": "code",
        "colab": {
          "base_uri": "https://localhost:8080/",
          "height": 283
        },
        "outputId": "50a2dbb3-320c-431e-9474-59a7d8db610f"
      },
      "source": [
        "# How many planets are in the planetary systems?\n",
        "plt.hist(data1['Number of Planets in System'], bins=5)\n",
        "plt.ylabel('Counts')\n",
        "plt.xlabel('Number of Planets in System')\n",
        "plt.show()"
      ],
      "execution_count": 20,
      "outputs": [
        {
          "output_type": "display_data",
          "data": {
            "image/png": "[encoded data removed]",
            "text/plain": [
              "<Figure size 432x288 with 1 Axes>"
            ]
          },
          "metadata": {
            "tags": []
          }
        }
      ]
    },
    {
      "cell_type": "markdown",
      "metadata": {
        "id": "6xh0zoRV9ukC",
        "colab_type": "text"
      },
      "source": [
        "#### The data are right skewed."
      ]
    },
    {
      "cell_type": "code",
      "metadata": {
        "id": "wKzIiL3w_Iwq",
        "colab_type": "code",
        "colab": {
          "base_uri": "https://localhost:8080/",
          "height": 1000
        },
        "outputId": "b8a096cc-7c87-4b78-fe9a-48c8c0ceae87"
      },
      "source": [
        "data1['Radius in Suns'].value_counts()"
      ],
      "execution_count": 11,
      "outputs": [
        {
          "output_type": "execute_result",
          "data": {
            "text/plain": [
              "0.89     65\n",
              "0.94     63\n",
              "0.79     61\n",
              "0.90     59\n",
              "0.84     59\n",
              "0.93     59\n",
              "0.96     58\n",
              "0.86     58\n",
              "0.80     56\n",
              "0.78     55\n",
              "0.81     54\n",
              "0.91     52\n",
              "0.83     52\n",
              "0.95     50\n",
              "0.76     49\n",
              "0.87     49\n",
              "0.85     47\n",
              "1.00     46\n",
              "0.92     45\n",
              "1.02     45\n",
              "1.05     45\n",
              "1.11     43\n",
              "0.82     43\n",
              "0.72     42\n",
              "0.88     42\n",
              "1.03     42\n",
              "0.74     42\n",
              "1.04     41\n",
              "1.09     41\n",
              "1.01     40\n",
              "         ..\n",
              "14.70     1\n",
              "21.40     1\n",
              "20.90     1\n",
              "5.13      1\n",
              "22.03     1\n",
              "4.44      1\n",
              "16.21     1\n",
              "10.06     1\n",
              "9.09      1\n",
              "5.77      1\n",
              "3.82      1\n",
              "4.60      1\n",
              "32.35     1\n",
              "2.58      1\n",
              "4.67      1\n",
              "21.66     1\n",
              "0.23      1\n",
              "6.26      1\n",
              "10.33     1\n",
              "2.69      1\n",
              "2.97      1\n",
              "4.96      1\n",
              "8.80      1\n",
              "0.01      1\n",
              "3.39      1\n",
              "2.90      1\n",
              "45.10     1\n",
              "5.26      1\n",
              "4.63      1\n",
              "12.40     1\n",
              "Name: Radius in Suns, Length: 362, dtype: int64"
            ]
          },
          "metadata": {
            "tags": []
          },
          "execution_count": 11
        }
      ]
    },
    {
      "cell_type": "markdown",
      "metadata": {
        "id": "BYnh9xNHFMbj",
        "colab_type": "text"
      },
      "source": [
        "### What About Planetary Size?"
      ]
    },
    {
      "cell_type": "code",
      "metadata": {
        "id": "YnjOPTnc9eX-",
        "colab_type": "code",
        "colab": {
          "base_uri": "https://localhost:8080/",
          "height": 425
        },
        "outputId": "0a2cba1b-de44-4607-db5d-b53f2de75ad5"
      },
      "source": [
        "#What about planetary size?\n",
        "plt.hist(data1['Radius in Suns'],bins=5)"
      ],
      "execution_count": 12,
      "outputs": [
        {
          "output_type": "stream",
          "text": [
            "/usr/local/lib/python3.6/dist-packages/numpy/lib/histograms.py:824: RuntimeWarning: invalid value encountered in greater_equal\n",
            "  keep = (tmp_a >= first_edge)\n",
            "/usr/local/lib/python3.6/dist-packages/numpy/lib/histograms.py:825: RuntimeWarning: invalid value encountered in less_equal\n",
            "  keep &= (tmp_a <= last_edge)\n"
          ],
          "name": "stderr"
        },
        {
          "output_type": "execute_result",
          "data": {
            "text/plain": [
              "(array([3.684e+03, 1.700e+01, 8.000e+00, 6.000e+00, 3.000e+00]),\n",
              " array([1.0000e-02, 1.4254e+01, 2.8498e+01, 4.2742e+01, 5.6986e+01,\n",
              "        7.1230e+01]),\n",
              " <a list of 5 Patch objects>)"
            ]
          },
          "metadata": {
            "tags": []
          },
          "execution_count": 12
        },
        {
          "output_type": "display_data",
          "data": {
            "image/png": "[encoded data removed]",
            "text/plain": [
              "<Figure size 432x288 with 1 Axes>"
            ]
          },
          "metadata": {
            "tags": []
          }
        }
      ]
    },
    {
      "cell_type": "code",
      "metadata": {
        "id": "fboudlIaAy3Y",
        "colab_type": "code",
        "colab": {
          "base_uri": "https://localhost:8080/",
          "height": 283
        },
        "outputId": "8ff7f1d6-c15c-44a0-eb66-d4d4ba25cc9f"
      },
      "source": [
        "data2 = data1[data1['Radius in Suns']< 10] \n",
        "plt.hist(data2['Radius in Suns'], bins=10)\n",
        "plt.ylabel('Counts')\n",
        "plt.xlabel('Radius in Suns')\n",
        "plt.show()"
      ],
      "execution_count": 19,
      "outputs": [
        {
          "output_type": "display_data",
          "data": {
            "image/png": "[encoded data removed]",
            "text/plain": [
              "<Figure size 432x288 with 1 Axes>"
            ]
          },
          "metadata": {
            "tags": []
          }
        }
      ]
    },
    {
      "cell_type": "markdown",
      "metadata": {
        "id": "32T4vv-Y-0IH",
        "colab_type": "text"
      },
      "source": [
        "#### Most earthlike exoplanets are 2 radii of suns or lower."
      ]
    },
    {
      "cell_type": "markdown",
      "metadata": {
        "id": "FOvgQgsOFRFm",
        "colab_type": "text"
      },
      "source": [
        "### How Long Are Orbits Around Their Suns?"
      ]
    },
    {
      "cell_type": "code",
      "metadata": {
        "id": "6Nme673ZFzVq",
        "colab_type": "code",
        "colab": {
          "base_uri": "https://localhost:8080/",
          "height": 1000
        },
        "outputId": "01dda8c5-a3e4-4077-8276-3e54fb816e28"
      },
      "source": [
        "data1['Orbit Time'].value_counts()"
      ],
      "execution_count": 14,
      "outputs": [
        {
          "output_type": "execute_result",
          "data": {
            "text/plain": [
              "5000.000000     2\n",
              "428.500000      2\n",
              "872.200000      2\n",
              "4100.000000     2\n",
              "19.129473       1\n",
              "20.505870       1\n",
              "144.547396      1\n",
              "27000.000000    1\n",
              "13.781300       1\n",
              "963.600000      1\n",
              "11.419412       1\n",
              "124.524465      1\n",
              "192.900000      1\n",
              "2.052350        1\n",
              "7.751925        1\n",
              "2.455239        1\n",
              "2.033879        1\n",
              "7.384490        1\n",
              "352.200000      1\n",
              "396.030000      1\n",
              "257.800000      1\n",
              "7.340711        1\n",
              "256.200000      1\n",
              "138.944200      1\n",
              "433.800000      1\n",
              "360.200000      1\n",
              "31.884000       1\n",
              "379.630000      1\n",
              "7.812540        1\n",
              "17.670064       1\n",
              "               ..\n",
              "2.032046        1\n",
              "34.060467       1\n",
              "13.522511       1\n",
              "88.900000       1\n",
              "1311.000000     1\n",
              "18.870641       1\n",
              "53.578637       1\n",
              "8.406726        1\n",
              "258.800000      1\n",
              "22.085576       1\n",
              "6.739724        1\n",
              "6.521211        1\n",
              "7.149210        1\n",
              "120.800000      1\n",
              "17.934937       1\n",
              "3.212220        1\n",
              "4.786949        1\n",
              "3.308958        1\n",
              "114.736350      1\n",
              "214.311416      1\n",
              "5.082747        1\n",
              "19.118775       1\n",
              "2.744325        1\n",
              "11.046034       1\n",
              "2.344512        1\n",
              "5.839172        1\n",
              "1.005207        1\n",
              "10.312600       1\n",
              "1.096026        1\n",
              "896.000000      1\n",
              "Name: Orbit Time, Length: 3939, dtype: int64"
            ]
          },
          "metadata": {
            "tags": []
          },
          "execution_count": 14
        }
      ]
    },
    {
      "cell_type": "code",
      "metadata": {
        "id": "NcZq3yzbFcQM",
        "colab_type": "code",
        "colab": {
          "base_uri": "https://localhost:8080/",
          "height": 283
        },
        "outputId": "932502c8-cac5-494f-fc3b-833ed7285a2f"
      },
      "source": [
        "# How Long Are Orbits Around Their Suns?\n",
        "data3 = data1[data1['Orbit Time'] < 1000]\n",
        "plt.hist(data3['Orbit Time'])\n",
        "plt.ylabel('Counts')\n",
        "plt.xlabel('Orbit Time in Days')\n",
        "plt.show()"
      ],
      "execution_count": 18,
      "outputs": [
        {
          "output_type": "display_data",
          "data": {
            "image/png": "[encoded data removed]",
            "text/plain": [
              "<Figure size 432x288 with 1 Axes>"
            ]
          },
          "metadata": {
            "tags": []
          }
        }
      ]
    },
    {
      "cell_type": "markdown",
      "metadata": {
        "id": "B1MfVQSyGMUT",
        "colab_type": "text"
      },
      "source": [
        "#### Most exoplanets have orbit times 200 days or lower."
      ]
    },
    {
      "cell_type": "markdown",
      "metadata": {
        "id": "mBidufU-GcHv",
        "colab_type": "text"
      },
      "source": [
        "### What About Exoplanet Mass?"
      ]
    },
    {
      "cell_type": "code",
      "metadata": {
        "id": "-jFmRcpbFr5Y",
        "colab_type": "code",
        "colab": {
          "base_uri": "https://localhost:8080/",
          "height": 1000
        },
        "outputId": "8f0cde07-93c5-4fd1-cf19-752adc01a67b"
      },
      "source": [
        "# What about exoplanet mass?\n",
        "data1['Mass'].value_counts() # Units are masses of the sun"
      ],
      "execution_count": 16,
      "outputs": [
        {
          "output_type": "execute_result",
          "data": {
            "text/plain": [
              "0.94     85\n",
              "0.96     73\n",
              "0.93     68\n",
              "1.00     66\n",
              "0.95     66\n",
              "1.04     62\n",
              "1.01     59\n",
              "1.08     59\n",
              "0.98     58\n",
              "0.81     58\n",
              "0.90     56\n",
              "0.87     55\n",
              "0.99     53\n",
              "1.02     53\n",
              "0.97     52\n",
              "1.03     51\n",
              "1.06     51\n",
              "1.09     49\n",
              "0.80     48\n",
              "0.92     47\n",
              "0.86     47\n",
              "0.91     47\n",
              "1.10     46\n",
              "0.88     45\n",
              "0.84     45\n",
              "1.05     45\n",
              "1.07     43\n",
              "0.85     42\n",
              "1.11     41\n",
              "0.89     40\n",
              "         ..\n",
              "2.13      1\n",
              "0.17      1\n",
              "1.97      1\n",
              "3.50      1\n",
              "23.56     1\n",
              "1.80      1\n",
              "3.09      1\n",
              "1.92      1\n",
              "3.70      1\n",
              "6.73      1\n",
              "2.42      1\n",
              "2.60      1\n",
              "2.49      1\n",
              "4.26      1\n",
              "2.53      1\n",
              "0.20      1\n",
              "2.22      1\n",
              "9.06      1\n",
              "2.77      1\n",
              "2.65      1\n",
              "1.65      1\n",
              "1.79      1\n",
              "0.05      1\n",
              "0.24      1\n",
              "1.89      1\n",
              "2.56      1\n",
              "2.12      1\n",
              "2.39      1\n",
              "1.98      1\n",
              "1.94      1\n",
              "Name: Mass, Length: 226, dtype: int64"
            ]
          },
          "metadata": {
            "tags": []
          },
          "execution_count": 16
        }
      ]
    },
    {
      "cell_type": "code",
      "metadata": {
        "id": "S3avKfa4Gqnh",
        "colab_type": "code",
        "colab": {
          "base_uri": "https://localhost:8080/",
          "height": 388
        },
        "outputId": "d374cd1e-7a16-4b09-b5e0-3f20e4f5c11a"
      },
      "source": [
        "plt.hist(data1['Mass'])\n",
        "plt.ylabel('Counts')\n",
        "plt.xlabel(\"Mass in units of Suns\")\n",
        "plt.show"
      ],
      "execution_count": 17,
      "outputs": [
        {
          "output_type": "stream",
          "text": [
            "/usr/local/lib/python3.6/dist-packages/numpy/lib/histograms.py:824: RuntimeWarning: invalid value encountered in greater_equal\n",
            "  keep = (tmp_a >= first_edge)\n",
            "/usr/local/lib/python3.6/dist-packages/numpy/lib/histograms.py:825: RuntimeWarning: invalid value encountered in less_equal\n",
            "  keep &= (tmp_a <= last_edge)\n"
          ],
          "name": "stderr"
        },
        {
          "output_type": "execute_result",
          "data": {
            "text/plain": [
              "<function matplotlib.pyplot.show>"
            ]
          },
          "metadata": {
            "tags": []
          },
          "execution_count": 17
        },
        {
          "output_type": "display_data",
          "data": {
            "image/png": "[encoded data removed]",
            "text/plain": [
              "<Figure size 432x288 with 1 Axes>"
            ]
          },
          "metadata": {
            "tags": []
          }
        }
      ]
    },
    {
      "cell_type": "code",
      "metadata": {
        "id": "oZHDYx8XG5fH",
        "colab_type": "code",
        "colab": {}
      },
      "source": [
        ""
      ],
      "execution_count": 0,
      "outputs": []
    }
  ]
}