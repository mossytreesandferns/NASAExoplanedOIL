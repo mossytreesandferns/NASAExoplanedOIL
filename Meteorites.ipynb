{
  "nbformat": 4,
  "nbformat_minor": 0,
  "metadata": {
    "colab": {
      "name": "Meteorites.ipynb",
      "provenance": [],
      "collapsed_sections": [],
      "authorship_tag": "ABX9TyOSCWY/AXak8u/7MlVh7a/e",
      "include_colab_link": true
    },
    "kernelspec": {
      "name": "python3",
      "display_name": "Python 3"
    }
  },
  "cells": [
    {
      "cell_type": "markdown",
      "metadata": {
        "id": "view-in-github",
        "colab_type": "text"
      },
      "source": [
        "<a href=\"https://colab.research.google.com/github/mossytreesandferns/NASAExoplanetOOL/blob/master/Meteorites.ipynb\" target=\"_parent\"><img src=\"https://colab.research.google.com/assets/colab-badge.svg\" alt=\"Open In Colab\"/></a>"
      ]
    },
    {
      "cell_type": "code",
      "metadata": {
        "id": "bpg6kwCnZ0FU",
        "colab_type": "code",
        "outputId": "33446bc3-606f-4522-e2d9-0007a0a57458",
        "colab": {
          "base_uri": "https://localhost:8080/",
          "height": 34
        }
      },
      "source": [
        "#Mount my drive- run the code, go to the link, accept.\n",
        "from google.colab import drive\n",
        "drive.mount('/content/gdrive')"
      ],
      "execution_count": 42,
      "outputs": [
        {
          "output_type": "stream",
          "text": [
            "Drive already mounted at /content/gdrive; to attempt to forcibly remount, call drive.mount(\"/content/gdrive\", force_remount=True).\n"
          ],
          "name": "stdout"
        }
      ]
    },
    {
      "cell_type": "code",
      "metadata": {
        "id": "iELmRAfzZ6AV",
        "colab_type": "code",
        "outputId": "52c546a3-450a-4069-8661-97031e06f66a",
        "colab": {
          "base_uri": "https://localhost:8080/",
          "height": 34
        }
      },
      "source": [
        "#Change working directory to make it easier to access the files\n",
        "import os\n",
        "os.chdir(\"/content/gdrive/My Drive/NASAData/\")\n",
        "os.getcwd()"
      ],
      "execution_count": 43,
      "outputs": [
        {
          "output_type": "execute_result",
          "data": {
            "text/plain": [
              "'/content/gdrive/My Drive/NASAData'"
            ]
          },
          "metadata": {
            "tags": []
          },
          "execution_count": 43
        }
      ]
    },
    {
      "cell_type": "markdown",
      "metadata": {
        "id": "junmZes6Z6Zd",
        "colab_type": "text"
      },
      "source": [
        "# Meteorite Data\n",
        "Link to data api found here: https://data.nasa.gov/Earth-Science/Meteorite-Landings-API/c2vx-j9ed"
      ]
    },
    {
      "cell_type": "markdown",
      "metadata": {
        "id": "rs00dXz4Bnw9",
        "colab_type": "text"
      },
      "source": [
        "### Cleaning up the data"
      ]
    },
    {
      "cell_type": "code",
      "metadata": {
        "id": "4XkmhetdZ6sP",
        "colab_type": "code",
        "colab": {}
      },
      "source": [
        "import pandas as pd\n",
        "import numpy as np\n",
        "import json\n",
        "\n",
        "# Alternate code:\n",
        "# with open('Meteorites.json') as file:\n",
        "#    data = json.load(file)\n",
        "# print(data)\n"
      ],
      "execution_count": 0,
      "outputs": []
    },
    {
      "cell_type": "code",
      "metadata": {
        "id": "3l0yufGoaurd",
        "colab_type": "code",
        "outputId": "da823654-aea7-4dcf-b762-23cb2cd2402c",
        "colab": {
          "base_uri": "https://localhost:8080/",
          "height": 315
        }
      },
      "source": [
        "df = pd.read_json('Meteorites.json') #, lines=False, orient='records'\n",
        "df.head(3)"
      ],
      "execution_count": 45,
      "outputs": [
        {
          "output_type": "execute_result",
          "data": {
            "text/html": [
              "<div>\n",
              "<style scoped>\n",
              "    .dataframe tbody tr th:only-of-type {\n",
              "        vertical-align: middle;\n",
              "    }\n",
              "\n",
              "    .dataframe tbody tr th {\n",
              "        vertical-align: top;\n",
              "    }\n",
              "\n",
              "    .dataframe thead th {\n",
              "        text-align: right;\n",
              "    }\n",
              "</style>\n",
              "<table border=\"1\" class=\"dataframe\">\n",
              "  <thead>\n",
              "    <tr style=\"text-align: right;\">\n",
              "      <th></th>\n",
              "      <th>name</th>\n",
              "      <th>id</th>\n",
              "      <th>nametype</th>\n",
              "      <th>recclass</th>\n",
              "      <th>mass</th>\n",
              "      <th>fall</th>\n",
              "      <th>year</th>\n",
              "      <th>reclat</th>\n",
              "      <th>reclong</th>\n",
              "      <th>geolocation</th>\n",
              "      <th>:@computed_region_cbhk_fwbd</th>\n",
              "      <th>:@computed_region_nnqa_25f4</th>\n",
              "    </tr>\n",
              "  </thead>\n",
              "  <tbody>\n",
              "    <tr>\n",
              "      <th>0</th>\n",
              "      <td>Aachen</td>\n",
              "      <td>1</td>\n",
              "      <td>Valid</td>\n",
              "      <td>L5</td>\n",
              "      <td>21.0</td>\n",
              "      <td>Fell</td>\n",
              "      <td>1880-01-01T00:00:00.000</td>\n",
              "      <td>50.77500</td>\n",
              "      <td>6.08333</td>\n",
              "      <td>{'latitude': '50.775', 'longitude': '6.08333'}</td>\n",
              "      <td>NaN</td>\n",
              "      <td>NaN</td>\n",
              "    </tr>\n",
              "    <tr>\n",
              "      <th>1</th>\n",
              "      <td>Aarhus</td>\n",
              "      <td>2</td>\n",
              "      <td>Valid</td>\n",
              "      <td>H6</td>\n",
              "      <td>720.0</td>\n",
              "      <td>Fell</td>\n",
              "      <td>1951-01-01T00:00:00.000</td>\n",
              "      <td>56.18333</td>\n",
              "      <td>10.23333</td>\n",
              "      <td>{'latitude': '56.18333', 'longitude': '10.23333'}</td>\n",
              "      <td>NaN</td>\n",
              "      <td>NaN</td>\n",
              "    </tr>\n",
              "    <tr>\n",
              "      <th>2</th>\n",
              "      <td>Abee</td>\n",
              "      <td>6</td>\n",
              "      <td>Valid</td>\n",
              "      <td>EH4</td>\n",
              "      <td>107000.0</td>\n",
              "      <td>Fell</td>\n",
              "      <td>1952-01-01T00:00:00.000</td>\n",
              "      <td>54.21667</td>\n",
              "      <td>-113.00000</td>\n",
              "      <td>{'latitude': '54.21667', 'longitude': '-113.0'}</td>\n",
              "      <td>NaN</td>\n",
              "      <td>NaN</td>\n",
              "    </tr>\n",
              "  </tbody>\n",
              "</table>\n",
              "</div>"
            ],
            "text/plain": [
              "     name  id  ... :@computed_region_cbhk_fwbd :@computed_region_nnqa_25f4\n",
              "0  Aachen   1  ...                         NaN                         NaN\n",
              "1  Aarhus   2  ...                         NaN                         NaN\n",
              "2    Abee   6  ...                         NaN                         NaN\n",
              "\n",
              "[3 rows x 12 columns]"
            ]
          },
          "metadata": {
            "tags": []
          },
          "execution_count": 45
        }
      ]
    },
    {
      "cell_type": "code",
      "metadata": {
        "id": "Fsw5CsPAdijs",
        "colab_type": "code",
        "outputId": "e4077b6d-4737-4882-8aeb-fe86edb1812f",
        "colab": {
          "base_uri": "https://localhost:8080/",
          "height": 142
        }
      },
      "source": [
        "# Alternate code:\n",
        "# df = df[['name','id','nametype',\t'recclass','mass','fall',\t'year', 'reclat',\t'reclong']]\n",
        "# df.head(3)\n",
        "\n",
        "\n",
        "# Looking at columnw\n",
        "df = df.iloc[:,0:9]\n",
        "df.head(3)"
      ],
      "execution_count": 46,
      "outputs": [
        {
          "output_type": "execute_result",
          "data": {
            "text/html": [
              "<div>\n",
              "<style scoped>\n",
              "    .dataframe tbody tr th:only-of-type {\n",
              "        vertical-align: middle;\n",
              "    }\n",
              "\n",
              "    .dataframe tbody tr th {\n",
              "        vertical-align: top;\n",
              "    }\n",
              "\n",
              "    .dataframe thead th {\n",
              "        text-align: right;\n",
              "    }\n",
              "</style>\n",
              "<table border=\"1\" class=\"dataframe\">\n",
              "  <thead>\n",
              "    <tr style=\"text-align: right;\">\n",
              "      <th></th>\n",
              "      <th>name</th>\n",
              "      <th>id</th>\n",
              "      <th>nametype</th>\n",
              "      <th>recclass</th>\n",
              "      <th>mass</th>\n",
              "      <th>fall</th>\n",
              "      <th>year</th>\n",
              "      <th>reclat</th>\n",
              "      <th>reclong</th>\n",
              "    </tr>\n",
              "  </thead>\n",
              "  <tbody>\n",
              "    <tr>\n",
              "      <th>0</th>\n",
              "      <td>Aachen</td>\n",
              "      <td>1</td>\n",
              "      <td>Valid</td>\n",
              "      <td>L5</td>\n",
              "      <td>21.0</td>\n",
              "      <td>Fell</td>\n",
              "      <td>1880-01-01T00:00:00.000</td>\n",
              "      <td>50.77500</td>\n",
              "      <td>6.08333</td>\n",
              "    </tr>\n",
              "    <tr>\n",
              "      <th>1</th>\n",
              "      <td>Aarhus</td>\n",
              "      <td>2</td>\n",
              "      <td>Valid</td>\n",
              "      <td>H6</td>\n",
              "      <td>720.0</td>\n",
              "      <td>Fell</td>\n",
              "      <td>1951-01-01T00:00:00.000</td>\n",
              "      <td>56.18333</td>\n",
              "      <td>10.23333</td>\n",
              "    </tr>\n",
              "    <tr>\n",
              "      <th>2</th>\n",
              "      <td>Abee</td>\n",
              "      <td>6</td>\n",
              "      <td>Valid</td>\n",
              "      <td>EH4</td>\n",
              "      <td>107000.0</td>\n",
              "      <td>Fell</td>\n",
              "      <td>1952-01-01T00:00:00.000</td>\n",
              "      <td>54.21667</td>\n",
              "      <td>-113.00000</td>\n",
              "    </tr>\n",
              "  </tbody>\n",
              "</table>\n",
              "</div>"
            ],
            "text/plain": [
              "     name  id nametype  ...                     year    reclat    reclong\n",
              "0  Aachen   1    Valid  ...  1880-01-01T00:00:00.000  50.77500    6.08333\n",
              "1  Aarhus   2    Valid  ...  1951-01-01T00:00:00.000  56.18333   10.23333\n",
              "2    Abee   6    Valid  ...  1952-01-01T00:00:00.000  54.21667 -113.00000\n",
              "\n",
              "[3 rows x 9 columns]"
            ]
          },
          "metadata": {
            "tags": []
          },
          "execution_count": 46
        }
      ]
    },
    {
      "cell_type": "code",
      "metadata": {
        "id": "yOVD0GxweXXJ",
        "colab_type": "code",
        "outputId": "3b280e73-0487-4295-8455-9d895a4ad8e2",
        "colab": {
          "base_uri": "https://localhost:8080/",
          "height": 187
        }
      },
      "source": [
        "# Checking for null values\n",
        "df.isnull().sum()"
      ],
      "execution_count": 47,
      "outputs": [
        {
          "output_type": "execute_result",
          "data": {
            "text/plain": [
              "name         0\n",
              "id           0\n",
              "nametype     0\n",
              "recclass     0\n",
              "mass        28\n",
              "fall         0\n",
              "year         1\n",
              "reclat      12\n",
              "reclong     12\n",
              "dtype: int64"
            ]
          },
          "metadata": {
            "tags": []
          },
          "execution_count": 47
        }
      ]
    },
    {
      "cell_type": "code",
      "metadata": {
        "id": "xdvkbTrmgwzj",
        "colab_type": "code",
        "outputId": "9ff9d6c3-de33-4c7a-e905-52bebe8c9076",
        "colab": {
          "base_uri": "https://localhost:8080/",
          "height": 297
        }
      },
      "source": [
        "df.describe()"
      ],
      "execution_count": 48,
      "outputs": [
        {
          "output_type": "execute_result",
          "data": {
            "text/html": [
              "<div>\n",
              "<style scoped>\n",
              "    .dataframe tbody tr th:only-of-type {\n",
              "        vertical-align: middle;\n",
              "    }\n",
              "\n",
              "    .dataframe tbody tr th {\n",
              "        vertical-align: top;\n",
              "    }\n",
              "\n",
              "    .dataframe thead th {\n",
              "        text-align: right;\n",
              "    }\n",
              "</style>\n",
              "<table border=\"1\" class=\"dataframe\">\n",
              "  <thead>\n",
              "    <tr style=\"text-align: right;\">\n",
              "      <th></th>\n",
              "      <th>id</th>\n",
              "      <th>mass</th>\n",
              "      <th>reclat</th>\n",
              "      <th>reclong</th>\n",
              "    </tr>\n",
              "  </thead>\n",
              "  <tbody>\n",
              "    <tr>\n",
              "      <th>count</th>\n",
              "      <td>1000.00000</td>\n",
              "      <td>9.720000e+02</td>\n",
              "      <td>988.000000</td>\n",
              "      <td>988.000000</td>\n",
              "    </tr>\n",
              "    <tr>\n",
              "      <th>mean</th>\n",
              "      <td>15398.72800</td>\n",
              "      <td>5.019020e+04</td>\n",
              "      <td>29.691592</td>\n",
              "      <td>19.151208</td>\n",
              "    </tr>\n",
              "    <tr>\n",
              "      <th>std</th>\n",
              "      <td>10368.70402</td>\n",
              "      <td>7.539857e+05</td>\n",
              "      <td>23.204399</td>\n",
              "      <td>68.644015</td>\n",
              "    </tr>\n",
              "    <tr>\n",
              "      <th>min</th>\n",
              "      <td>1.00000</td>\n",
              "      <td>1.500000e-01</td>\n",
              "      <td>-44.116670</td>\n",
              "      <td>-157.866670</td>\n",
              "    </tr>\n",
              "    <tr>\n",
              "      <th>25%</th>\n",
              "      <td>7770.50000</td>\n",
              "      <td>6.795000e+02</td>\n",
              "      <td>21.300000</td>\n",
              "      <td>-5.195832</td>\n",
              "    </tr>\n",
              "    <tr>\n",
              "      <th>50%</th>\n",
              "      <td>12757.50000</td>\n",
              "      <td>2.870000e+03</td>\n",
              "      <td>35.916665</td>\n",
              "      <td>17.325000</td>\n",
              "    </tr>\n",
              "    <tr>\n",
              "      <th>75%</th>\n",
              "      <td>18831.25000</td>\n",
              "      <td>1.005000e+04</td>\n",
              "      <td>45.817835</td>\n",
              "      <td>76.004167</td>\n",
              "    </tr>\n",
              "    <tr>\n",
              "      <th>max</th>\n",
              "      <td>57168.00000</td>\n",
              "      <td>2.300000e+07</td>\n",
              "      <td>66.348330</td>\n",
              "      <td>174.400000</td>\n",
              "    </tr>\n",
              "  </tbody>\n",
              "</table>\n",
              "</div>"
            ],
            "text/plain": [
              "                id          mass      reclat     reclong\n",
              "count   1000.00000  9.720000e+02  988.000000  988.000000\n",
              "mean   15398.72800  5.019020e+04   29.691592   19.151208\n",
              "std    10368.70402  7.539857e+05   23.204399   68.644015\n",
              "min        1.00000  1.500000e-01  -44.116670 -157.866670\n",
              "25%     7770.50000  6.795000e+02   21.300000   -5.195832\n",
              "50%    12757.50000  2.870000e+03   35.916665   17.325000\n",
              "75%    18831.25000  1.005000e+04   45.817835   76.004167\n",
              "max    57168.00000  2.300000e+07   66.348330  174.400000"
            ]
          },
          "metadata": {
            "tags": []
          },
          "execution_count": 48
        }
      ]
    },
    {
      "cell_type": "code",
      "metadata": {
        "id": "pCn87xIBg37S",
        "colab_type": "code",
        "colab": {}
      },
      "source": [
        "# Filling null values in the 'mass' column with the mean\n",
        "df.mass.fillna(df.mass.mean(), inplace=True)"
      ],
      "execution_count": 0,
      "outputs": []
    },
    {
      "cell_type": "code",
      "metadata": {
        "id": "Q66Qit1HhHzd",
        "colab_type": "code",
        "outputId": "e9147b7c-9d68-459b-d99a-1cbadecc0c56",
        "colab": {
          "base_uri": "https://localhost:8080/",
          "height": 187
        }
      },
      "source": [
        "df.isnull().sum()"
      ],
      "execution_count": 50,
      "outputs": [
        {
          "output_type": "execute_result",
          "data": {
            "text/plain": [
              "name         0\n",
              "id           0\n",
              "nametype     0\n",
              "recclass     0\n",
              "mass         0\n",
              "fall         0\n",
              "year         1\n",
              "reclat      12\n",
              "reclong     12\n",
              "dtype: int64"
            ]
          },
          "metadata": {
            "tags": []
          },
          "execution_count": 50
        }
      ]
    },
    {
      "cell_type": "code",
      "metadata": {
        "id": "sT9VKEwkh3FP",
        "colab_type": "code",
        "outputId": "66c14e36-4845-4f4c-b969-74b11d285c8a",
        "colab": {
          "base_uri": "https://localhost:8080/",
          "height": 142
        }
      },
      "source": [
        "# String methods into datetime conversion\n",
        "df['year'] = df.year.str.strip('T00:00:00.000')\n",
        "df['year'] = df.year.str.replace('-','/')\n",
        "df.head(3)"
      ],
      "execution_count": 51,
      "outputs": [
        {
          "output_type": "execute_result",
          "data": {
            "text/html": [
              "<div>\n",
              "<style scoped>\n",
              "    .dataframe tbody tr th:only-of-type {\n",
              "        vertical-align: middle;\n",
              "    }\n",
              "\n",
              "    .dataframe tbody tr th {\n",
              "        vertical-align: top;\n",
              "    }\n",
              "\n",
              "    .dataframe thead th {\n",
              "        text-align: right;\n",
              "    }\n",
              "</style>\n",
              "<table border=\"1\" class=\"dataframe\">\n",
              "  <thead>\n",
              "    <tr style=\"text-align: right;\">\n",
              "      <th></th>\n",
              "      <th>name</th>\n",
              "      <th>id</th>\n",
              "      <th>nametype</th>\n",
              "      <th>recclass</th>\n",
              "      <th>mass</th>\n",
              "      <th>fall</th>\n",
              "      <th>year</th>\n",
              "      <th>reclat</th>\n",
              "      <th>reclong</th>\n",
              "    </tr>\n",
              "  </thead>\n",
              "  <tbody>\n",
              "    <tr>\n",
              "      <th>0</th>\n",
              "      <td>Aachen</td>\n",
              "      <td>1</td>\n",
              "      <td>Valid</td>\n",
              "      <td>L5</td>\n",
              "      <td>21.0</td>\n",
              "      <td>Fell</td>\n",
              "      <td>1880/01/01</td>\n",
              "      <td>50.77500</td>\n",
              "      <td>6.08333</td>\n",
              "    </tr>\n",
              "    <tr>\n",
              "      <th>1</th>\n",
              "      <td>Aarhus</td>\n",
              "      <td>2</td>\n",
              "      <td>Valid</td>\n",
              "      <td>H6</td>\n",
              "      <td>720.0</td>\n",
              "      <td>Fell</td>\n",
              "      <td>1951/01/01</td>\n",
              "      <td>56.18333</td>\n",
              "      <td>10.23333</td>\n",
              "    </tr>\n",
              "    <tr>\n",
              "      <th>2</th>\n",
              "      <td>Abee</td>\n",
              "      <td>6</td>\n",
              "      <td>Valid</td>\n",
              "      <td>EH4</td>\n",
              "      <td>107000.0</td>\n",
              "      <td>Fell</td>\n",
              "      <td>1952/01/01</td>\n",
              "      <td>54.21667</td>\n",
              "      <td>-113.00000</td>\n",
              "    </tr>\n",
              "  </tbody>\n",
              "</table>\n",
              "</div>"
            ],
            "text/plain": [
              "     name  id nametype recclass  ...  fall        year    reclat    reclong\n",
              "0  Aachen   1    Valid       L5  ...  Fell  1880/01/01  50.77500    6.08333\n",
              "1  Aarhus   2    Valid       H6  ...  Fell  1951/01/01  56.18333   10.23333\n",
              "2    Abee   6    Valid      EH4  ...  Fell  1952/01/01  54.21667 -113.00000\n",
              "\n",
              "[3 rows x 9 columns]"
            ]
          },
          "metadata": {
            "tags": []
          },
          "execution_count": 51
        }
      ]
    },
    {
      "cell_type": "code",
      "metadata": {
        "id": "JPvheGPD-vCw",
        "colab_type": "code",
        "colab": {}
      },
      "source": [
        "df['year'] = pd.to_datetime(df['year'], errors='coerce')"
      ],
      "execution_count": 0,
      "outputs": []
    },
    {
      "cell_type": "code",
      "metadata": {
        "id": "PyOuQCUqihHe",
        "colab_type": "code",
        "outputId": "b3c5b454-321e-40e5-f11f-b3dd42f9cea7",
        "colab": {
          "base_uri": "https://localhost:8080/",
          "height": 68
        }
      },
      "source": [
        "df.fall.value_counts()"
      ],
      "execution_count": 53,
      "outputs": [
        {
          "output_type": "execute_result",
          "data": {
            "text/plain": [
              "Fell     996\n",
              "Found      4\n",
              "Name: fall, dtype: int64"
            ]
          },
          "metadata": {
            "tags": []
          },
          "execution_count": 53
        }
      ]
    },
    {
      "cell_type": "code",
      "metadata": {
        "id": "Dg_rmFpKn75w",
        "colab_type": "code",
        "outputId": "90f6d6eb-b94e-4b20-c273-4dba95bc029b",
        "colab": {
          "base_uri": "https://localhost:8080/",
          "height": 187
        }
      },
      "source": [
        "df.dtypes"
      ],
      "execution_count": 54,
      "outputs": [
        {
          "output_type": "execute_result",
          "data": {
            "text/plain": [
              "name                object\n",
              "id                   int64\n",
              "nametype            object\n",
              "recclass            object\n",
              "mass               float64\n",
              "fall                object\n",
              "year        datetime64[ns]\n",
              "reclat             float64\n",
              "reclong            float64\n",
              "dtype: object"
            ]
          },
          "metadata": {
            "tags": []
          },
          "execution_count": 54
        }
      ]
    },
    {
      "cell_type": "markdown",
      "metadata": {
        "id": "nWTPa-ZVBrV7",
        "colab_type": "text"
      },
      "source": [
        "### Exploratory graphical data analysis\n",
        "Plotting size of meteorites over time"
      ]
    },
    {
      "cell_type": "code",
      "metadata": {
        "id": "TjM16PPLoBSd",
        "colab_type": "code",
        "outputId": "2c6deba2-d563-4d24-9c94-478e80e5ff22",
        "colab": {
          "base_uri": "https://localhost:8080/",
          "height": 290
        }
      },
      "source": [
        "# Plotting size of meteorites over time\n",
        "import matplotlib.pyplot as plt\n",
        "\n",
        "plt.scatter(df.year, df.mass, alpha=.8)\n",
        "plt.xlabel('Year')\n",
        "plt.ylabel('Mass') # Units unknown.  kg?\n",
        "plt.show()"
      ],
      "execution_count": 55,
      "outputs": [
        {
          "output_type": "display_data",
          "data": {
            "image/png": "[encoded data removed]",
            "text/plain": [
              "<Figure size 432x288 with 1 Axes>"
            ]
          },
          "metadata": {
            "tags": [],
            "needs_background": "light"
          }
        }
      ]
    },
    {
      "cell_type": "markdown",
      "metadata": {
        "id": "DuXdrO0EGr40",
        "colab_type": "text"
      },
      "source": [
        "Most metorites are small. <br>\n",
        "<br>\n",
        "Is there a relationship between latitude or longitude and mass?"
      ]
    },
    {
      "cell_type": "code",
      "metadata": {
        "id": "4WZJAT-oGXqb",
        "colab_type": "code",
        "outputId": "7dad951c-8ea4-421e-c130-2a9899844936",
        "colab": {
          "base_uri": "https://localhost:8080/",
          "height": 290
        }
      },
      "source": [
        "# Is there a relationship between latitude or longitude and mass?\n",
        "plt.scatter(df.reclat, df.mass)\n",
        "plt.xlabel('Latitude') # Latitude\n",
        "plt.ylabel('Mass') \n",
        "plt.show()"
      ],
      "execution_count": 56,
      "outputs": [
        {
          "output_type": "display_data",
          "data": {
            "image/png": "[encoded data removed]",
            "text/plain": [
              "<Figure size 432x288 with 1 Axes>"
            ]
          },
          "metadata": {
            "tags": [],
            "needs_background": "light"
          }
        }
      ]
    },
    {
      "cell_type": "code",
      "metadata": {
        "id": "GkdqdUtGHZYL",
        "colab_type": "code",
        "outputId": "ab225b67-581f-400d-e752-e14ff8994b0a",
        "colab": {
          "base_uri": "https://localhost:8080/",
          "height": 290
        }
      },
      "source": [
        "# Longitude\n",
        "plt.scatter(df.reclong, df.mass)\n",
        "plt.xlabel('Longitude') \n",
        "plt.ylabel('Mass') \n",
        "plt.show()"
      ],
      "execution_count": 57,
      "outputs": [
        {
          "output_type": "display_data",
          "data": {
            "image/png": "[encoded data removed]",
            "text/plain": [
              "<Figure size 432x288 with 1 Axes>"
            ]
          },
          "metadata": {
            "tags": [],
            "needs_background": "light"
          }
        }
      ]
    },
    {
      "cell_type": "markdown",
      "metadata": {
        "id": "c6pdXGKIIIyN",
        "colab_type": "text"
      },
      "source": [
        "It's probably not possible to collect meteorites that fall in the Atlantic Ocean.<br>"
      ]
    },
    {
      "cell_type": "code",
      "metadata": {
        "id": "EB8ec7p1HfuM",
        "colab_type": "code",
        "colab": {}
      },
      "source": [
        "# Remember ecdf()\n",
        "def ecdf(data):\n",
        "    \"\"\"Compute ECDF for a one-dimensional array of measurements.\"\"\"\n",
        "    # Number of data points: n\n",
        "    n = len(data)\n",
        "\n",
        "    # x-data for the ECDF: x\n",
        "    x = np.sort(data)\n",
        "\n",
        "    # y-data for the ECDF: y\n",
        "    y = np.arange(1, n+1) / n\n",
        "\n",
        "    return x, y"
      ],
      "execution_count": 0,
      "outputs": []
    },
    {
      "cell_type": "code",
      "metadata": {
        "id": "Iwf_5gJUIp0E",
        "colab_type": "code",
        "outputId": "461797a7-b62a-465b-daeb-798d417ade88",
        "colab": {
          "base_uri": "https://localhost:8080/",
          "height": 281
        }
      },
      "source": [
        "# Plotting the ECDF\n",
        "met_mean = np.mean(df.mass)\n",
        "met_sd = np.std(df.mass)\n",
        "theoretical_met_size = np.random.normal(met_mean, met_sd, size=1000)\n",
        "\n",
        "x_theor, y_theor = ecdf(theoretical_met_size)\n",
        "x, y = ecdf(df.mass)\n",
        "# Plotting EDCF of meteorite size\n",
        "plt.plot(x_theor, y_theor)\n",
        "plt.plot(x, y, marker='.', linestyle='none')\n",
        "plt.show()"
      ],
      "execution_count": 62,
      "outputs": [
        {
          "output_type": "display_data",
          "data": {
            "image/png": "[encoded data removed]",
            "text/plain": [
              "<Figure size 432x288 with 1 Axes>"
            ]
          },
          "metadata": {
            "tags": []
          }
        }
      ]
    },
    {
      "cell_type": "markdown",
      "metadata": {
        "id": "6O6wMVo5LmVU",
        "colab_type": "text"
      },
      "source": [
        "The actual cdf varies from the theoretical cdf.  What happens when we take out the the biggest outlier?"
      ]
    },
    {
      "cell_type": "code",
      "metadata": {
        "id": "ISYsBAyQLUf_",
        "colab_type": "code",
        "outputId": "2a38b04d-7cc5-465d-c6b7-8925e1726426",
        "colab": {
          "base_uri": "https://localhost:8080/",
          "height": 34
        }
      },
      "source": [
        "df.mass.max()"
      ],
      "execution_count": 63,
      "outputs": [
        {
          "output_type": "execute_result",
          "data": {
            "text/plain": [
              "23000000.0"
            ]
          },
          "metadata": {
            "tags": []
          },
          "execution_count": 63
        }
      ]
    },
    {
      "cell_type": "code",
      "metadata": {
        "id": "QazkSEcrMFOd",
        "colab_type": "code",
        "colab": {}
      },
      "source": [
        "df = df[df.mass < 23000000.0]"
      ],
      "execution_count": 0,
      "outputs": []
    },
    {
      "cell_type": "code",
      "metadata": {
        "id": "L8ExOXeeMMyG",
        "colab_type": "code",
        "outputId": "5bfe94d6-a04e-4197-c2d1-ddfddf0f5dad",
        "colab": {
          "base_uri": "https://localhost:8080/",
          "height": 281
        }
      },
      "source": [
        "# Plotting ECDF again\n",
        "met_mean = np.mean(df.mass)\n",
        "met_sd = np.std(df.mass)\n",
        "theoretical_met_size = np.random.normal(met_mean, met_sd, size=1000)\n",
        "\n",
        "x_theor, y_theor = ecdf(theoretical_met_size)\n",
        "x, y = ecdf(df.mass)\n",
        "# Plotting EDCF of meteorite size\n",
        "plt.plot(x_theor, y_theor)\n",
        "plt.plot(x, y, marker='.', linestyle='none')\n",
        "plt.show()"
      ],
      "execution_count": 65,
      "outputs": [
        {
          "output_type": "display_data",
          "data": {
            "image/png": "[encoded data removed]",
            "text/plain": [
              "<Figure size 432x288 with 1 Axes>"
            ]
          },
          "metadata": {
            "tags": []
          }
        }
      ]
    },
    {
      "cell_type": "markdown",
      "metadata": {
        "id": "rzy_I2KpMTdx",
        "colab_type": "text"
      },
      "source": [
        "Still quite a bit of variation.\n",
        "<br>\n",
        "Looking at the distribution of meteorite mass."
      ]
    },
    {
      "cell_type": "code",
      "metadata": {
        "id": "-QehrpP6MQQm",
        "colab_type": "code",
        "colab": {
          "base_uri": "https://localhost:8080/",
          "height": 268
        },
        "outputId": "d32ad020-dca5-4046-ec3a-b684b1c63eb0"
      },
      "source": [
        "# Plotting the distribution of meteorite size\n",
        "df = df[df.mass < 1]\n",
        "import seaborn as sns\n",
        "sns.set()\n",
        "plt.hist(df.mass)\n",
        "plt.show()"
      ],
      "execution_count": 68,
      "outputs": [
        {
          "output_type": "display_data",
          "data": {
            "image/png": "[encoded data removed]",
            "text/plain": [
              "<Figure size 432x288 with 1 Axes>"
            ]
          },
          "metadata": {
            "tags": []
          }
        }
      ]
    },
    {
      "cell_type": "markdown",
      "metadata": {
        "id": "rJSc1zU9UmgI",
        "colab_type": "text"
      },
      "source": [
        "Most meteorites are around .15 kg or .2 kg."
      ]
    },
    {
      "cell_type": "code",
      "metadata": {
        "id": "XLzmNEgxUFgs",
        "colab_type": "code",
        "colab": {}
      },
      "source": [
        ""
      ],
      "execution_count": 0,
      "outputs": []
    }
  ]
}